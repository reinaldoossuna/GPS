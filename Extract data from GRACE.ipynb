{
 "cells": [
  {
   "cell_type": "code",
   "execution_count": 1,
   "metadata": {},
   "outputs": [],
   "source": [
    "from netCDF4 import Dataset, num2date\n",
    "import numpy as np\n",
    "import matplotlib.pyplot as plt\n",
    "import datetime as dt\n",
    "import os\n",
    "from pathlib import Path\n",
    "import pandas as pd"
   ]
  },
  {
   "cell_type": "code",
   "execution_count": 2,
   "metadata": {},
   "outputs": [
    {
     "data": {
      "text/plain": [
       "<class 'netCDF4._netCDF4.Dataset'>\n",
       "root group (NETCDF3_CLASSIC data model, file format NETCDF3):\n",
       "    Conventions: CF-1.5\n",
       "    Institution: JPL / GRACE-TELLUS\n",
       "    Variable: scaling factor and measurement errors\n",
       "    Platform: GRACE\n",
       "    Sensor: GRACE\n",
       "    Filter_Width_KM: 300\n",
       "    DATE_CREATED: Wed Feb 19 15:04:06 2014\n",
       "    dimensions(sizes): Longitude(360), Latitude(180)\n",
       "    variables(dimensions): float32 \u001b[4mLongitude\u001b[0m(Longitude), float32 \u001b[4mLatitude\u001b[0m(Latitude), float32 \u001b[4mSCALE_FACTOR\u001b[0m(Latitude,Longitude), float32 \u001b[4mMEASUREMENT_ERROR\u001b[0m(Latitude,Longitude), float32 \u001b[4mLEAKAGE_ERROR\u001b[0m(Latitude,Longitude)\n",
       "    groups: "
      ]
     },
     "execution_count": 2,
     "metadata": {},
     "output_type": "execute_result"
    }
   ],
   "source": [
    "path_corr = \"DATA/GRACE/CLM4.SCALE_FACTOR.DS.G300KM.RL05.DSTvSCS1409.nc\"\n",
    "corr = Dataset(path_corr,mode='r')\n",
    "corr"
   ]
  },
  {
   "cell_type": "code",
   "execution_count": 3,
   "metadata": {},
   "outputs": [
    {
     "data": {
      "text/plain": [
       "[PosixPath('DATA/GRACE/GRCTellus.CSR.200204_201701.LND.RL05.DSTvSCS1409.nc'),\n",
       " PosixPath('DATA/GRACE/GRCTellus.GFZ.200204_201701.LND.RL05.DSTvSCS1409.nc'),\n",
       " PosixPath('DATA/GRACE/GRCTellus.JPL.200204_201701.LND.RL05_1.DSTvSCS1411.nc')]"
      ]
     },
     "execution_count": 3,
     "metadata": {},
     "output_type": "execute_result"
    }
   ],
   "source": [
    "data_path = Path(\"DATA/GRACE/\")\n",
    "grace_data = list(data_path.glob(\"GRCTellus*\"))\n",
    "grace_data"
   ]
  },
  {
   "cell_type": "code",
   "execution_count": 4,
   "metadata": {},
   "outputs": [
    {
     "data": {
      "text/plain": [
       "<class 'netCDF4._netCDF4.Dataset'>\n",
       "root group (NETCDF3_CLASSIC data model, file format NETCDF3):\n",
       "    Conventions: CF-1.5\n",
       "    filename: netcdf/GRCTellus.CSR.200204_201701.LND.RL05.DSTvSCS1409.nc\n",
       "    institution: JPL / GRACE-TELLUS\n",
       "    variable: liquid water equivalent thickness\n",
       "    platform: GRACE\n",
       "    sensor: GRACE\n",
       "    time_mean_removed: 2004.000 to 2009.999\n",
       "    data_source: GRACE CSR RL05 + Sean C. Swenson\n",
       "    data_source_version: DSTvSCS1409\n",
       "    Longitudes:  LON1_NLONS_DLON=0.5. 360 1.\n",
       "    Latitudes:  LAT1_NLATS_DLAT=-89.5 180 1.\n",
       "    time_epoch: 2002-01-01 00:00:00\n",
       "    time_start:  107.5 days since epoch or 2002-04-18\n",
       "    time_end: 5499.5 days since epoch or 2017-01-21\n",
       "    months_missing: 2002-06;2002-07;2003-06;2011-01;2011-06;2012-05;2012-10;2013-03;2013-08;2013-09;2014-02;2014-12,2015-06\n",
       "    postprocess1: DESTRIPED\n",
       "    postprocess2:  OCEAN_ATMOSPHERE_DEALIAS_MODEL (GAC), MONTHLY_AVE, ADDED BACK TO OCEAN PIXELS ONLY\n",
       "    filter:  gaussian\n",
       "    Filter_Width_KM: 300\n",
       "    Filter_Max_Degree: 60\n",
       "    label: GRC-DSTvSCS1409-g300km_n=060\n",
       "    Mask: LAND ONLY PIXELS\n",
       "    DATE_CREATED: Fri Jun 23 12:02:57 2017\n",
       "    input_filename: ./GSM/GSM-2_2002095-2002120_0021_UTCSR_0060_0005\n",
       "\n",
       "./GSM/GSM-2_2002123-2002137_0012_UTCSR_0060_0005\n",
       "\n",
       "./GSM/GSM-2_2002213-2002243_0030_UTCSR_0060_0005\n",
       "\n",
       "./GSM/GSM-2_2002244-2002273_0029_UTCSR_0060_0005\n",
       "\n",
       "./GSM/GSM-2_2002274-2002304_0031_UTCSR_0060_0005\n",
       "\n",
       "./GSM/GSM-2_2002305-2002334_0029_UTCSR_0060_0005\n",
       "\n",
       "./GSM/GSM-2_2002335-2002365_0030_UTCSR_0060_0005\n",
       "\n",
       "./GSM/GSM-2_2003001-2003031_0025_UTCSR_0060_0005\n",
       "\n",
       "./GSM/GSM-2_2003032-2003059_0026_UTCSR_0060_0005\n",
       "\n",
       "./GSM/GSM-2_2003060-2003090_0030_UTCSR_0060_0005\n",
       "\n",
       "./GSM/GSM-2_2003091-2003120_0030_UTCSR_0060_0005\n",
       "\n",
       "./GSM/GSM-2_2003121-2003141_0021_UTCSR_0060_0005\n",
       "\n",
       "./GSM/GSM-2_2003182-2003212_0031_UTCSR_0060_0005\n",
       "\n",
       "./GSM/GSM-2_2003213-2003243_0031_UTCSR_0060_0005\n",
       "\n",
       "./GSM/GSM-2_2003244-2003273_0029_UTCSR_0060_0005\n",
       "\n",
       "./GSM/GSM-2_2003274-2003304_0031_UTCSR_0060_0005\n",
       "\n",
       "./GSM/GSM-2_2003305-2003334_0029_UTCSR_0060_0005\n",
       "\n",
       "./GSM/GSM-2_2003335-2003365_0031_UTCSR_0060_0005\n",
       "\n",
       "./GSM/GSM-2_2004001-2004013_0013_UTCSR_0060_0005\n",
       "\n",
       "./GSM/GSM-2_2004035-2004060_0026_UTCSR_0060_0005\n",
       "\n",
       "./GSM/GSM-2_2004061-2004091_0031_UTCSR_0060_0005\n",
       "\n",
       "./GSM/GSM-2_2004092-2004121_0030_UTCSR_0060_0005\n",
       "\n",
       "./GSM/GSM-2_2004122-2004152_0028_UTCSR_0060_0005\n",
       "\n",
       "./GSM/GSM-2_2004153-2004182_0030_UTCSR_0060_0005\n",
       "\n",
       "./GSM/GSM-2_2004183-2004213_0031_UTCSR_0060_0005\n",
       "\n",
       "./GSM/GSM-2_2004214-2004244_0031_UTCSR_0060_0005\n",
       "\n",
       "./GSM/GSM-2_2004245-2004274_0030_UTCSR_0060_0005\n",
       "\n",
       "./GSM/GSM-2_2004275-2004305_0031_UTCSR_0060_0005\n",
       "\n",
       "./GSM/GSM-2_2004306-2004335_0030_UTCSR_0060_0005\n",
       "\n",
       "./GSM/GSM-2_2004336-2004366_0027_UTCSR_0060_0005\n",
       "\n",
       "./GSM/GSM-2_2005001-2005031_0031_UTCSR_0060_0005\n",
       "\n",
       "./GSM/GSM-2_2005032-2005059_0028_UTCSR_0060_0005\n",
       "\n",
       "./GSM/GSM-2_2005060-2005090_0028_UTCSR_0060_0005\n",
       "\n",
       "./GSM/GSM-2_2005091-2005120_0030_UTCSR_0060_0005\n",
       "\n",
       "./GSM/GSM-2_2005121-2005151_0031_UTCSR_0060_0005\n",
       "\n",
       "./GSM/GSM-2_2005152-2005181_0030_UTCSR_0060_0005\n",
       "\n",
       "./GSM/GSM-2_2005182-2005212_0031_UTCSR_0060_0005\n",
       "\n",
       "./GSM/GSM-2_2005213-2005243_0031_UTCSR_0060_0005\n",
       "\n",
       "./GSM/GSM-2_2005244-2005273_0030_UTCSR_0060_0005\n",
       "\n",
       "./GSM/GSM-2_2005274-2005304_0031_UTCSR_0060_0005\n",
       "\n",
       "./GSM/GSM-2_2005305-2005334_0030_UTCSR_0060_0005\n",
       "\n",
       "./GSM/GSM-2_2005335-2005365_0024_UTCSR_0060_0005\n",
       "\n",
       "./GSM/GSM-2_2006001-2006031_0031_UTCSR_0060_0005\n",
       "\n",
       "./GSM/GSM-2_2006032-2006059_0028_UTCSR_0060_0005\n",
       "\n",
       "./GSM/GSM-2_2006060-2006090_0030_UTCSR_0060_0005\n",
       "\n",
       "./GSM/GSM-2_2006091-2006120_0030_UTCSR_0060_0005\n",
       "\n",
       "./GSM/GSM-2_2006121-2006151_0031_UTCSR_0060_0005\n",
       "\n",
       "./GSM/GSM-2_2006152-2006181_0030_UTCSR_0060_0005\n",
       "\n",
       "./GSM/GSM-2_2006182-2006212_0031_UTCSR_0060_0005\n",
       "\n",
       "./GSM/GSM-2_2006213-2006243_0031_UTCSR_0060_0005\n",
       "\n",
       "./GSM/GSM-2_2006244-2006273_0030_UTCSR_0060_0005\n",
       "\n",
       "./GSM/GSM-2_2006274-2006304_0031_UTCSR_0060_0005\n",
       "\n",
       "./GSM/GSM-2_2006305-2006334_0030_UTCSR_0060_0005\n",
       "\n",
       "./GSM/GSM-2_2006335-2006365_0028_UTCSR_0060_0005\n",
       "\n",
       "./GSM/GSM-2_2007001-2007031_0028_UTCSR_0060_0005\n",
       "\n",
       "./GSM/GSM-2_2007032-2007058_0027_UTCSR_0060_0005\n",
       "\n",
       "./GSM/GSM-2_2007060-2007090_0031_UTCSR_0060_0005\n",
       "\n",
       "./GSM/GSM-2_2007091-2007120_0029_UTCSR_0060_0005\n",
       "\n",
       "./GSM/GSM-2_2007121-2007151_0031_UTCSR_0060_0005\n",
       "\n",
       "./GSM/GSM-2_2007152-2007181_0029_UTCSR_0060_0005\n",
       "\n",
       "./GSM/GSM-2_2007182-2007212_0031_UTCSR_0060_0005\n",
       "\n",
       "./GSM/GSM-2_2007213-2007243_0031_UTCSR_0060_0005\n",
       "\n",
       "./GSM/GSM-2_2007244-2007273_0030_UTCSR_0060_0005\n",
       "\n",
       "./GSM/GSM-2_2007274-2007304_0031_UTCSR_0060_0005\n",
       "\n",
       "./GSM/GSM-2_2007305-2007334_0026_UTCSR_0060_0005\n",
       "\n",
       "./GSM/GSM-2_2007335-2007365_0031_UTCSR_0060_0005\n",
       "\n",
       "./GSM/GSM-2_2008001-2008031_0031_UTCSR_0060_0005\n",
       "\n",
       "./GSM/GSM-2_2008032-2008060_0029_UTCSR_0060_0005\n",
       "\n",
       "./GSM/GSM-2_2008061-2008091_0031_UTCSR_0060_0005\n",
       "\n",
       "./GSM/GSM-2_2008092-2008121_0029_UTCSR_0060_0005\n",
       "\n",
       "./GSM/GSM-2_2008122-2008152_0031_UTCSR_0060_0005\n",
       "\n",
       "./GSM/GSM-2_2008153-2008182_0030_UTCSR_0060_0005\n",
       "\n",
       "./GSM/GSM-2_2008183-2008213_0031_UTCSR_0060_0005\n",
       "\n",
       "./GSM/GSM-2_2008214-2008244_0031_UTCSR_0060_0005\n",
       "\n",
       "./GSM/GSM-2_2008245-2008274_0030_UTCSR_0060_0005\n",
       "\n",
       "./GSM/GSM-2_2008275-2008305_0031_UTCSR_0060_0005\n",
       "\n",
       "./GSM/GSM-2_2008306-2008335_0030_UTCSR_0060_0005\n",
       "\n",
       "./GSM/GSM-2_2008336-2008366_0031_UTCSR_0060_0005\n",
       "\n",
       "./GSM/GSM-2_2009001-2009031_0031_UTCSR_0060_0005\n",
       "\n",
       "./GSM/GSM-2_2009032-2009059_0028_UTCSR_0060_0005\n",
       "\n",
       "./GSM/GSM-2_2009060-2009090_0031_UTCSR_0060_0005\n",
       "\n",
       "./GSM/GSM-2_2009091-2009120_0030_UTCSR_0060_0005\n",
       "\n",
       "./GSM/GSM-2_2009121-2009151_0031_UTCSR_0060_0005\n",
       "\n",
       "./GSM/GSM-2_2009152-2009181_0030_UTCSR_0060_0005\n",
       "\n",
       "./GSM/GSM-2_2009182-2009212_0031_UTCSR_0060_0005\n",
       "\n",
       "./GSM/GSM-2_2009213-2009243_0031_UTCSR_0060_0005\n",
       "\n",
       "./GSM/GSM-2_2009244-2009273_0030_UTCSR_0060_0005\n",
       "\n",
       "./GSM/GSM-2_2009274-2009304_0031_UTCSR_0060_0005\n",
       "\n",
       "./GSM/GSM-2_2009305-2009334_0030_UTCSR_0060_0005\n",
       "\n",
       "./GSM/GSM-2_2009335-2009365_0031_UTCSR_0060_0005\n",
       "\n",
       "./GSM/GSM-2_2010001-2010031_0031_UTCSR_0060_0005\n",
       "\n",
       "./GSM/GSM-2_2010032-2010059_0028_UTCSR_0060_0005\n",
       "\n",
       "./GSM/GSM-2_2010060-2010090_0030_UTCSR_0060_0005\n",
       "\n",
       "./GSM/GSM-2_2010091-2010120_0030_UTCSR_0060_0005\n",
       "\n",
       "./GSM/GSM-2_2010121-2010151_0031_UTCSR_0060_0005\n",
       "\n",
       "./GSM/GSM-2_2010152-2010181_0030_UTCSR_0060_0005\n",
       "\n",
       "./GSM/GSM-2_2010182-2010212_0031_UTCSR_0060_0005\n",
       "\n",
       "./GSM/GSM-2_2010213-2010243_0031_UTCSR_0060_0005\n",
       "\n",
       "./GSM/GSM-2_2010244-2010273_0030_UTCSR_0060_0005\n",
       "\n",
       "./GSM/GSM-2_2010274-2010304_0031_UTCSR_0060_0005\n",
       "\n",
       "./GSM/GSM-2_2010305-2010334_0030_UTCSR_0060_0005\n",
       "\n",
       "./GSM/GSM-2_2010335-2010361_0027_UTCSR_0060_0005\n",
       "\n",
       "./GSM/GSM-2_2011039-2011059_0021_UTCSR_0060_0005\n",
       "\n",
       "./GSM/GSM-2_2011060-2011090_0031_UTCSR_0060_0005\n",
       "\n",
       "./GSM/GSM-2_2011091-2011120_0030_UTCSR_0060_0005\n",
       "\n",
       "./GSM/GSM-2_2011121-2011151_0031_UTCSR_0060_0005\n",
       "\n",
       "./GSM/GSM-2_2011186-2011212_0027_UTCSR_0060_0005\n",
       "\n",
       "./GSM/GSM-2_2011213-2011243_0031_UTCSR_0060_0005\n",
       "\n",
       "./GSM/GSM-2_2011244-2011273_0030_UTCSR_0060_0005\n",
       "\n",
       "./GSM/GSM-2_2011274-2011304_0031_UTCSR_0060_0005\n",
       "\n",
       "./GSM/GSM-2_2011289-2011319_0031_UTCSR_0060_0005\n",
       "\n",
       "./GSM/GSM-2_2011347-2012011_0026_UTCSR_0060_0005\n",
       "\n",
       "./GSM/GSM-2_2012001-2012031_0031_UTCSR_0060_0005\n",
       "\n",
       "./GSM/GSM-2_2012032-2012060_0029_UTCSR_0060_0005\n",
       "\n",
       "./GSM/GSM-2_2012061-2012091_0031_UTCSR_0060_0005\n",
       "\n",
       "./GSM/GSM-2_2012080-2012109_0030_UTCSR_0060_0005\n",
       "\n",
       "./GSM/GSM-2_2012153-2012182_0030_UTCSR_0060_0005\n",
       "\n",
       "./GSM/GSM-2_2012183-2012213_0031_UTCSR_0060_0005\n",
       "\n",
       "./GSM/GSM-2_2012214-2012244_0031_UTCSR_0060_0005\n",
       "\n",
       "./GSM/GSM-2_2012245-2012269_0025_UTCSR_0060_0005\n",
       "\n",
       "./GSM/GSM-2_2012311-2012335_0025_UTCSR_0060_0005\n",
       "\n",
       "./GSM/GSM-2_2012336-2012366_0029_UTCSR_0060_0005\n",
       "\n",
       "./GSM/GSM-2_2013001-2013031_0031_UTCSR_0060_0005\n",
       "\n",
       "./GSM/GSM-2_2013032-2013057_0026_UTCSR_0060_0005\n",
       "\n",
       "./GSM/GSM-2_2013101-2013120_0020_UTCSR_0060_0005\n",
       "\n",
       "./GSM/GSM-2_2013121-2013151_0031_UTCSR_0060_0005\n",
       "\n",
       "./GSM/GSM-2_2013152-2013181_0030_UTCSR_0060_0005\n",
       "\n",
       "./GSM/GSM-2_2013182-2013212_0031_UTCSR_0060_0005\n",
       "\n",
       "./GSM/GSM-2_2013274-2013304_0031_UTCSR_0060_0005\n",
       "\n",
       "./GSM/GSM-2_2013305-2013334_0030_UTCSR_0060_0005\n",
       "\n",
       "./GSM/GSM-2_2013335-2013365_0028_UTCSR_0060_0005\n",
       "\n",
       "./GSM/GSM-2_2014001-2014016_0016_UTCSR_0060_0005\n",
       "\n",
       "./GSM/GSM-2_2014060-2014090_0031_UTCSR_0060_0005\n",
       "\n",
       "./GSM/GSM-2_2014091-2014120_0030_UTCSR_0060_0005\n",
       "\n",
       "./GSM/GSM-2_2014121-2014151_0031_UTCSR_0060_0005\n",
       "\n",
       "./GSM/GSM-2_2014152-2014175_0024_UTCSR_0060_0005\n",
       "\n",
       "./GSM/GSM-2_2014213-2014243_0031_UTCSR_0060_0005\n",
       "\n",
       "./GSM/GSM-2_2014244-2014273_0030_UTCSR_0060_0005\n",
       "\n",
       "./GSM/GSM-2_2014274-2014304_0031_UTCSR_0060_0005\n",
       "\n",
       "./GSM/GSM-2_2014305-2014334_0029_UTCSR_0060_0005\n",
       "\n",
       "./GSM/GSM-2_2015013-2015031_0019_UTCSR_0060_0005\n",
       "\n",
       "./GSM/GSM-2_2015032-2015059_0028_UTCSR_0060_0005\n",
       "\n",
       "./GSM/GSM-2_2015060-2015090_0031_UTCSR_0060_0005\n",
       "\n",
       "./GSM/GSM-2_2015091-2015120_0030_UTCSR_0060_0005\n",
       "\n",
       "./GSM/GSM-2_2015102-2015131_0030_UTCSR_0060_0005\n",
       "\n",
       "./GSM/GSM-2_2015180-2015212_0027_UTCSR_0060_0005\n",
       "\n",
       "./GSM/GSM-2_2015213-2015243_0031_UTCSR_0060_0005\n",
       "\n",
       "./GSM/GSM-2_2015244-2015270_0027_UTCSR_0060_0005\n",
       "\n",
       "./GSM/GSM-2_2015345-2016003_0024_UTCSR_0060_0005\n",
       "\n",
       "./GSM/GSM-2_2016004-2016028_0025_UTCSR_0060_0005\n",
       "\n",
       "./GSM/GSM-2_2016029-2016060_0032_UTCSR_0060_0005\n",
       "\n",
       "./GSM/GSM-2_2016061-2016091_0031_UTCSR_0060_0005\n",
       "\n",
       "./GSM/GSM-2_2016129-2016152_0024_UTCSR_0060_0005\n",
       "\n",
       "./GSM/GSM-2_2016153-2016182_0030_UTCSR_0060_0005\n",
       "\n",
       "./GSM/GSM-2_2016183-2016211_0029_UTCSR_0060_0005\n",
       "\n",
       "./GSM/GSM-2_2016221-2016247_0027_UTCSR_0060_0005\n",
       "\n",
       "./GSM/GSM-2_2016318-2016345_0028_UTCSR_0060_0005\n",
       "\n",
       "./GSM/GSM-2_2016346-2017006_0027_UTCSR_0060_0005\n",
       "\n",
       "./GSM/GSM-2_2017007-2017034_0028_UTCSR_0060_0005\n",
       "    dimensions(sizes): lon(360), lat(180), time(159), bounds(2)\n",
       "    variables(dimensions): float64 \u001b[4mlon\u001b[0m(lon), float64 \u001b[4mlat\u001b[0m(lat), float64 \u001b[4mtime\u001b[0m(time), float32 \u001b[4mlwe_thickness\u001b[0m(time,lat,lon), float64 \u001b[4mtime_bounds\u001b[0m(time,bounds)\n",
       "    groups: "
      ]
     },
     "execution_count": 4,
     "metadata": {},
     "output_type": "execute_result"
    }
   ],
   "source": [
    "nc = Dataset(grace_data[0], mode=\"r\")\n",
    "nc"
   ]
  },
  {
   "cell_type": "code",
   "execution_count": 5,
   "metadata": {},
   "outputs": [
    {
     "data": {
      "text/plain": [
       "odict_keys(['lon', 'lat', 'time', 'lwe_thickness', 'time_bounds'])"
      ]
     },
     "execution_count": 5,
     "metadata": {},
     "output_type": "execute_result"
    }
   ],
   "source": [
    "nc.variables.keys()"
   ]
  },
  {
   "cell_type": "code",
   "execution_count": 6,
   "metadata": {},
   "outputs": [],
   "source": [
    "lat_gleam = nc.variables['lat']\n",
    "lon_gleam = nc.variables['lon']\n",
    "time_gleam = nc.variables['time']\n",
    "lwe_thickness_gleam = nc.variables['lwe_thickness']"
   ]
  },
  {
   "cell_type": "code",
   "execution_count": 7,
   "metadata": {},
   "outputs": [
    {
     "data": {
      "text/plain": [
       "(<class 'netCDF4._netCDF4.Variable'>\n",
       " float64 lat(lat)\n",
       "     units: degrees_north\n",
       "     long_name: Latitude\n",
       " unlimited dimensions: \n",
       " current shape = (180,)\n",
       " filling off,\n",
       " array([-89.5, -88.5, -87.5, -86.5, -85.5, -84.5, -83.5, -82.5, -81.5,\n",
       "        -80.5, -79.5, -78.5, -77.5, -76.5, -75.5, -74.5, -73.5, -72.5,\n",
       "        -71.5, -70.5, -69.5, -68.5, -67.5, -66.5, -65.5, -64.5, -63.5,\n",
       "        -62.5, -61.5, -60.5, -59.5, -58.5, -57.5, -56.5, -55.5, -54.5,\n",
       "        -53.5, -52.5, -51.5, -50.5, -49.5, -48.5, -47.5, -46.5, -45.5,\n",
       "        -44.5, -43.5, -42.5, -41.5, -40.5, -39.5, -38.5, -37.5, -36.5,\n",
       "        -35.5, -34.5, -33.5, -32.5, -31.5, -30.5, -29.5, -28.5, -27.5,\n",
       "        -26.5, -25.5, -24.5, -23.5, -22.5, -21.5, -20.5, -19.5, -18.5,\n",
       "        -17.5, -16.5, -15.5, -14.5, -13.5, -12.5, -11.5, -10.5,  -9.5,\n",
       "         -8.5,  -7.5,  -6.5,  -5.5,  -4.5,  -3.5,  -2.5,  -1.5,  -0.5,\n",
       "          0.5,   1.5,   2.5,   3.5,   4.5,   5.5,   6.5,   7.5,   8.5,\n",
       "          9.5,  10.5,  11.5,  12.5,  13.5,  14.5,  15.5,  16.5,  17.5,\n",
       "         18.5,  19.5,  20.5,  21.5,  22.5,  23.5,  24.5,  25.5,  26.5,\n",
       "         27.5,  28.5,  29.5,  30.5,  31.5,  32.5,  33.5,  34.5,  35.5,\n",
       "         36.5,  37.5,  38.5,  39.5,  40.5,  41.5,  42.5,  43.5,  44.5,\n",
       "         45.5,  46.5,  47.5,  48.5,  49.5,  50.5,  51.5,  52.5,  53.5,\n",
       "         54.5,  55.5,  56.5,  57.5,  58.5,  59.5,  60.5,  61.5,  62.5,\n",
       "         63.5,  64.5,  65.5,  66.5,  67.5,  68.5,  69.5,  70.5,  71.5,\n",
       "         72.5,  73.5,  74.5,  75.5,  76.5,  77.5,  78.5,  79.5,  80.5,\n",
       "         81.5,  82.5,  83.5,  84.5,  85.5,  86.5,  87.5,  88.5,  89.5]))"
      ]
     },
     "execution_count": 7,
     "metadata": {},
     "output_type": "execute_result"
    }
   ],
   "source": [
    "lat_gleam, lat_gleam[:]"
   ]
  },
  {
   "cell_type": "code",
   "execution_count": 8,
   "metadata": {},
   "outputs": [
    {
     "name": "stdout",
     "output_type": "stream",
     "text": [
      "days since 2002-01-01 00:00:00\n"
     ]
    }
   ],
   "source": [
    "time_units_gleam = nc.variables['time'].units\n",
    "print(time_units_gleam)"
   ]
  },
  {
   "cell_type": "code",
   "execution_count": 9,
   "metadata": {},
   "outputs": [
    {
     "data": {
      "text/plain": [
       "array([datetime.datetime(2002, 4, 18, 12, 0),\n",
       "       datetime.datetime(2002, 5, 11, 0, 0),\n",
       "       datetime.datetime(2002, 8, 17, 0, 0),\n",
       "       datetime.datetime(2002, 9, 16, 12, 0),\n",
       "       datetime.datetime(2002, 10, 17, 0, 0)], dtype=object)"
      ]
     },
     "execution_count": 9,
     "metadata": {},
     "output_type": "execute_result"
    }
   ],
   "source": [
    "date_gleam = num2date(time_gleam[:], time_units_gleam)\n",
    "date_gleam[:5]"
   ]
  },
  {
   "cell_type": "code",
   "execution_count": 10,
   "metadata": {},
   "outputs": [
    {
     "data": {
      "image/png": "[encoded data removed]",
      "text/plain": [
       "<Figure size 432x288 with 2 Axes>"
      ]
     },
     "metadata": {},
     "output_type": "display_data"
    }
   ],
   "source": [
    "\n",
    "plt.pcolormesh(lon_gleam[:],lat_gleam[:], lwe_thickness_gleam[0])\n",
    "plt.colorbar()\n",
    "plt.show()"
   ]
  },
  {
   "cell_type": "code",
   "execution_count": 11,
   "metadata": {},
   "outputs": [],
   "source": [
    "braz_lat= -15.9474753422\n",
    "braz_long = 360 + -47.8778689831"
   ]
  },
  {
   "cell_type": "code",
   "execution_count": 12,
   "metadata": {},
   "outputs": [],
   "source": [
    "def find_nearest(array, value,n=1):\n",
    "    array = np.asarray(array)\n",
    "    diff = np.abs(array - value)\n",
    "    nearest = array[diff.argsort()][:n]\n",
    "    idxs = []\n",
    "    for i in range(n):\n",
    "        idxs.append(np.where(array == nearest[i]))\n",
    "    return np.sort(idxs)[::-1].flatten()"
   ]
  },
  {
   "cell_type": "code",
   "execution_count": 13,
   "metadata": {},
   "outputs": [
    {
     "ename": "NameError",
     "evalue": "name 'braz_lat_long' is not defined",
     "output_type": "error",
     "traceback": [
      "\u001b[0;31m---------------------------------------------------------------------------\u001b[0m",
      "\u001b[0;31mNameError\u001b[0m                                 Traceback (most recent call last)",
      "\u001b[0;32m<ipython-input-13-9b037a2a2971>\u001b[0m in \u001b[0;36m<module>\u001b[0;34m()\u001b[0m\n\u001b[0;32m----> 1\u001b[0;31m \u001b[0mfind_nearest\u001b[0m\u001b[0;34m(\u001b[0m\u001b[0mlat_gleam\u001b[0m\u001b[0;34m,\u001b[0m\u001b[0mbraz_lat_long\u001b[0m\u001b[0;34m[\u001b[0m\u001b[0;36m0\u001b[0m\u001b[0;34m]\u001b[0m\u001b[0;34m,\u001b[0m\u001b[0;36m4\u001b[0m\u001b[0;34m)\u001b[0m\u001b[0;34m\u001b[0m\u001b[0m\n\u001b[0m",
      "\u001b[0;31mNameError\u001b[0m: name 'braz_lat_long' is not defined"
     ]
    }
   ],
   "source": [
    "find_nearest(lat_gleam,braz_lat_long[0],4)"
   ]
  },
  {
   "cell_type": "code",
   "execution_count": null,
   "metadata": {},
   "outputs": [],
   "source": [
    "def make_mask(src,list_x,list_y):\n",
    "    src = np.asarray(src)\n",
    "    mask = np.full_like(src,False,dtype=bool)\n",
    "\n",
    "    for x in list_x:\n",
    "        for y in list_y:\n",
    "            mask[x,y] = True\n",
    "    return mask"
   ]
  },
  {
   "cell_type": "code",
   "execution_count": null,
   "metadata": {},
   "outputs": [],
   "source": [
    "list_x = find_nearest(lat_gleam,braz_lat_long[0],4)\n",
    "list_y = find_nearest(lon_gleam,360+braz_lat_long[1],4)"
   ]
  },
  {
   "cell_type": "code",
   "execution_count": null,
   "metadata": {},
   "outputs": [],
   "source": [
    "lwe_thickness_gleam.shape"
   ]
  },
  {
   "cell_type": "code",
   "execution_count": null,
   "metadata": {},
   "outputs": [],
   "source": [
    "mask = make_mask(lwe_thickness_gleam[0],list_x,list_y)"
   ]
  },
  {
   "cell_type": "code",
   "execution_count": null,
   "metadata": {},
   "outputs": [],
   "source": [
    "mask"
   ]
  },
  {
   "cell_type": "code",
   "execution_count": null,
   "metadata": {},
   "outputs": [],
   "source": [
    "lwe_thickness_gleam[0][:].filled()[mask]"
   ]
  },
  {
   "cell_type": "code",
   "execution_count": null,
   "metadata": {},
   "outputs": [],
   "source": [
    "def get_mean_mask(matrix, mask):\n",
    "    mean = matrix[:][mask].mean()\n",
    "    return mean"
   ]
  },
  {
   "cell_type": "code",
   "execution_count": null,
   "metadata": {},
   "outputs": [],
   "source": [
    "get_mean_mask(lwe_thickness_gleam[0],mask)"
   ]
  },
  {
   "cell_type": "code",
   "execution_count": null,
   "metadata": {},
   "outputs": [],
   "source": [
    "lista = []\n",
    "for lwe_thickness in lwe_thickness_gleam:\n",
    "    lista.append(get_mean_mask(lwe_thickness,mask))\n",
    "    \n",
    "lista"
   ]
  },
  {
   "cell_type": "code",
   "execution_count": null,
   "metadata": {},
   "outputs": [],
   "source": [
    "def read_data(grace,lat,long,ns): \n",
    "\n",
    "    name = grace.as_posix()[21:24]\n",
    "    \n",
    "    nc = Dataset(grace, mode=\"r\")\n",
    "    \n",
    "    lat_gleam = nc.variables['lat']\n",
    "    lon_gleam = nc.variables['lon']\n",
    "    time_gleam = nc.variables['time']\n",
    "    lwe_thickness_gleam = nc.variables['lwe_thickness']\n",
    "    \n",
    "    time_units_gleam = nc.variables['time'].units\n",
    "    \n",
    "    date_gleam = num2date(time_gleam[:], time_units_gleam)\n",
    "    \n",
    "    dados = pd.DataFrame(index=date_gleam)\n",
    "    \n",
    "\n",
    "    for n in ns:\n",
    "        name_column = name+\"- %i\" % n\n",
    "        \n",
    "        list_x = find_nearest(lat_gleam,lat,n)\n",
    "        list_y = find_nearest(lon_gleam,long,n)\n",
    "\n",
    "        mask = make_mask(lwe_thickness_gleam[0],list_x,list_y)\n",
    "        column = []\n",
    "        for lwe_thickness in lwe_thickness_gleam:\n",
    "            column.append(get_mean_mask(lwe_thickness,mask))\n",
    "        \n",
    "        dados[name_column] = column\n",
    "    \n",
    "    \n",
    "    return dados"
   ]
  },
  {
   "cell_type": "code",
   "execution_count": null,
   "metadata": {
    "scrolled": true
   },
   "outputs": [],
   "source": [
    "dfs = []\n",
    "for grace in grace_data:\n",
    "    dfs.append(read_data(grace,braz_lat,braz_long,[2,3,4]))\n",
    "df = pd.concat(dfs,sort=True)\n",
    "df.sort_index(inplace=True)\n",
    "df.head()"
   ]
  },
  {
   "cell_type": "code",
   "execution_count": null,
   "metadata": {},
   "outputs": [],
   "source": [
    "df = df.groupby(pd.Grouper(freq=\"M\")).mean().dropna(how=\"all\")"
   ]
  },
  {
   "cell_type": "code",
   "execution_count": null,
   "metadata": {},
   "outputs": [],
   "source": [
    "def get_df(graces,station):\n",
    "    dfs = []\n",
    "    lat = station[lat]\n",
    "    long = station[long]\n",
    "    for grace in grace_data:\n",
    "        dfs.append(read_data(grace,lat,long,[2,3,4]))\n",
    "    df = pd.concat(dfs,sort=True)\n",
    "    df = df.groupby(pd.Grouper(freq=\"M\")).mean().dropna(how=\"all\")\n",
    "    \n",
    "    df.to_csv(station.name)"
   ]
  },
  {
   "cell_type": "code",
   "execution_count": null,
   "metadata": {},
   "outputs": [],
   "source": []
  },
  {
   "cell_type": "code",
   "execution_count": null,
   "metadata": {},
   "outputs": [],
   "source": [
    "df.head()"
   ]
  },
  {
   "cell_type": "code",
   "execution_count": null,
   "metadata": {},
   "outputs": [],
   "source": [
    "df.mean(axis=1)"
   ]
  },
  {
   "cell_type": "code",
   "execution_count": null,
   "metadata": {},
   "outputs": [],
   "source": []
  }
 ],
 "metadata": {
  "jupytext": {
   "formats": "ipynb,py:light"
  },
  "kernelspec": {
   "display_name": "Python [conda env:ic]",
   "language": "python",
   "name": "conda-env-ic-py"
  },
  "language_info": {
   "codemirror_mode": {
    "name": "ipython",
    "version": 3
   },
   "file_extension": ".py",
   "mimetype": "text/x-python",
   "name": "python",
   "nbconvert_exporter": "python",
   "pygments_lexer": "ipython3",
   "version": "3.6.5"
  }
 },
 "nbformat": 4,
 "nbformat_minor": 2
}
